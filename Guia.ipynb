{
 "cells": [
  {
   "attachments": {},
   "cell_type": "markdown",
   "metadata": {},
   "source": [
    "# Guia do projeto\n",
    "\n",
    "Neste arquivo, serão disponibilizadas todas as informações e documentações necessárias para o desenvolvimento do projeto de telemetria do Fox Baja FX4.0.\n",
    "\n",
    "___"
   ]
  }
 ],
 "metadata": {
  "language_info": {
   "name": "python"
  },
  "orig_nbformat": 4
 },
 "nbformat": 4,
 "nbformat_minor": 2
}
