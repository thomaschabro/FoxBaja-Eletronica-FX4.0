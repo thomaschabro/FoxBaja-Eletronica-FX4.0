{
 "cells": [
  {
   "attachments": {},
   "cell_type": "markdown",
   "metadata": {},
   "source": [
    "# Guia do projeto\n",
    "\n",
    "Neste arquivo, serão disponibilizadas todas as informações e documentações necessárias para o desenvolvimento do projeto de telemetria do Fox Baja FX4.0.\n",
    "\n",
    "___"
   ]
  },
  {
   "attachments": {},
   "cell_type": "markdown",
   "metadata": {},
   "source": [
    "## ESP-IDF\n",
    "\n",
    "### Instalação\n",
    "\n",
    "Para a utilização de recursos necessários para a implementação do projeto, como CMake, compiladores, Ninja e outras ferramentas, é necessário instalar o ESP-IDF. Para isso, siga os passos do site abaixo:\n",
    "\n",
    "https://docs.espressif.com/projects/esp-idf/en/latest/esp32/get-started/\n",
    "\n",
    "Uma vez instalado, utilizaremos o ESP-IDF PowerShell para compilar, rodar e monitorar nossos programas. Detalhe: é recomendado que o ESP-IDF esteja instalado em um diretório sem espaços no nome, como \"C:\\ESP-IDF\". Além disso, os projetos a serem rodados também são recomendados que estejam dentro da pasta \"ESP-IDF\", para evitar problemas com o caminho dos arquivos. Exemplo:\n",
    "\n",
    "- \"C:\\Espressif\\frameworks\\esp-idf-v5.0.2\\BAJA\\FoxBaja-Eletronica-FX4.0\"\n",
    "\n",
    "Sendo \"FoxBaja-Eletronica-FX4.0\" o github com o projeto.\n",
    "\n",
    "### Comandos\n",
    "\n",
    "Uma vez instalado o ESP-IDF Power Shell, basta acessá-lo e ir até a pasta raiz do projeto. Para compilar o projeto, basta digitar o comando:\n",
    "\n",
    "> idf.py build\n",
    "\n",
    "Para rodar o projeto, basta digitar o comando:\n",
    "\n",
    "> idf.py -p COMx flash monitor\n",
    "\n",
    "Sendo \"x\" o número da porta COM na qual a ESP32 está conectada. \n",
    "\n",
    "``` \n",
    "OBS: Para verificar qual porta é, apenas olhe no \"Gerenciador de Dispositivos\" do Windows.\n",
    "```\n",
    "\n",
    "O \"monitor\" no final do comando serve para mostrar no terminal todos os prints que o programa faz. Caso não queira isso, basta tirar o \"monitor\" do comando. Muito útil para debugar o código.\n",
    "\n",
    "Ainda, para acessar as configurações da ESP32, basta digitar o comando:\n",
    "\n",
    "> idf.py menuconfig\n",
    "\n",
    "Para eventuais dúvidas na utilização de cada um, basta acessar o site citado anteriormente. Nele, existem documentações e tutoriais para a utilização de cada comando."
   ]
  },
  {
   "cell_type": "code",
   "execution_count": null,
   "metadata": {
    "vscode": {
     "languageId": "plaintext"
    }
   },
   "outputs": [],
   "source": []
  },
  {
   "cell_type": "code",
   "execution_count": null,
   "metadata": {
    "vscode": {
     "languageId": "plaintext"
    }
   },
   "outputs": [],
   "source": []
  },
  {
   "cell_type": "code",
   "execution_count": null,
   "metadata": {
    "vscode": {
     "languageId": "plaintext"
    }
   },
   "outputs": [],
   "source": []
  }
 ],
 "metadata": {
  "language_info": {
   "name": "python"
  },
  "orig_nbformat": 4
 },
 "nbformat": 4,
 "nbformat_minor": 2
}
